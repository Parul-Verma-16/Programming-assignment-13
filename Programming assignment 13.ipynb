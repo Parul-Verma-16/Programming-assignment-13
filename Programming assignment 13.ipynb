{
 "cells": [
  {
   "cell_type": "markdown",
   "id": "7ad0d115",
   "metadata": {},
   "source": [
    "## 1) Write a program that calculates and prints the value according to the given formula:\n",
    "## Q = Square root of [(2 * C * D)/H]\n",
    "## Following are the fixed values of C and H:\n",
    "## C is 50. H is 30.\n",
    "## D is the variable whose values should be input to your program in a comma-separated sequence."
   ]
  },
  {
   "cell_type": "code",
   "execution_count": 1,
   "id": "141e304b",
   "metadata": {},
   "outputs": [
    {
     "name": "stdout",
     "output_type": "stream",
     "text": [
      "18,22,24\n"
     ]
    }
   ],
   "source": [
    "import math\n",
    "\n",
    "def calculate_values(sequence):\n",
    "    C = 50\n",
    "    H = 30\n",
    "    values = []\n",
    "\n",
    "    # Split the comma-separated sequence into a list of values\n",
    "    inputs = sequence.split(',')\n",
    "\n",
    "    for D in inputs:\n",
    "        # Convert D from string to integer\n",
    "        D = int(D)\n",
    "\n",
    "        # Calculate Q using the formula\n",
    "        Q = math.sqrt((2 * C * D) / H)\n",
    "\n",
    "        # Round Q to the nearest whole number\n",
    "        Q = round(Q)\n",
    "\n",
    "        # Append the rounded Q value to the list\n",
    "        values.append(str(Q))\n",
    "\n",
    "    # Join the values into a comma-separated string\n",
    "    output = ','.join(values)\n",
    "\n",
    "    return output\n",
    "\n",
    "# Example usage\n",
    "input_sequence = \"100,150,180\"\n",
    "output_values = calculate_values(input_sequence)\n",
    "print(output_values)"
   ]
  },
  {
   "cell_type": "markdown",
   "id": "5959bfc3",
   "metadata": {},
   "source": [
    "## 2) Write a program which takes 2 digits, X,Y as input and generates a 2-dimensional array. The element value in the i-th row and j-th column of the array should be i*j. Note: i=0,1.., X-1; j=0,1,¡Y-1."
   ]
  },
  {
   "cell_type": "code",
   "execution_count": 2,
   "id": "285f5570",
   "metadata": {},
   "outputs": [
    {
     "name": "stdout",
     "output_type": "stream",
     "text": [
      "[[0, 0, 0, 0, 0], [0, 1, 2, 3, 4], [0, 2, 4, 6, 8]]\n"
     ]
    }
   ],
   "source": [
    "def generate_array(X, Y):\n",
    "    array = []\n",
    "\n",
    "    for i in range(X):\n",
    "        row = []\n",
    "        for j in range(Y):\n",
    "            # Calculate the element value for the i-th row and j-th column\n",
    "            element = i * j\n",
    "            row.append(element)\n",
    "        array.append(row)\n",
    "\n",
    "    return array\n",
    "\n",
    "# Example usage\n",
    "X = 3\n",
    "Y = 5\n",
    "result = generate_array(X, Y)\n",
    "print(result)"
   ]
  },
  {
   "cell_type": "markdown",
   "id": "e2778a75",
   "metadata": {},
   "source": [
    "## 3) Write a program that accepts a comma separated sequence of words as input and prints the words in a comma-separated sequence after sorting them alphabetically."
   ]
  },
  {
   "cell_type": "code",
   "execution_count": 3,
   "id": "093de60c",
   "metadata": {},
   "outputs": [
    {
     "name": "stdout",
     "output_type": "stream",
     "text": [
      "bag,hello,without,world\n"
     ]
    }
   ],
   "source": [
    "def sort_words(sequence):\n",
    "    # Split the comma-separated sequence into a list of words\n",
    "    words = sequence.split(',')\n",
    "\n",
    "    # Sort the words alphabetically\n",
    "    sorted_words = sorted(words)\n",
    "\n",
    "    # Join the sorted words into a comma-separated string\n",
    "    output = ','.join(sorted_words)\n",
    "\n",
    "    return output\n",
    "\n",
    "# Example usage\n",
    "input_sequence = \"without,hello,bag,world\"\n",
    "sorted_sequence = sort_words(input_sequence)\n",
    "print(sorted_sequence)"
   ]
  },
  {
   "cell_type": "markdown",
   "id": "18dcd6f5",
   "metadata": {},
   "source": [
    "## 4) Write a program that accepts a sequence of whitespace separated words as input and prints the words after removing all duplicate words and sorting them alphanumerically."
   ]
  },
  {
   "cell_type": "code",
   "execution_count": 4,
   "id": "4b5a83ff",
   "metadata": {},
   "outputs": [
    {
     "name": "stdout",
     "output_type": "stream",
     "text": [
      "again and hello makes perfect practice world\n"
     ]
    }
   ],
   "source": [
    "def remove_duplicates_and_sort(sequence):\n",
    "    # Split the whitespace-separated sequence into a list of words\n",
    "    words = sequence.split()\n",
    "\n",
    "    # Remove duplicate words while preserving the order\n",
    "    unique_words = list(dict.fromkeys(words))\n",
    "\n",
    "    # Sort the unique words alphabetically\n",
    "    sorted_words = sorted(unique_words)\n",
    "\n",
    "    # Join the sorted words into a whitespace-separated string\n",
    "    output = ' '.join(sorted_words)\n",
    "\n",
    "    return output\n",
    "\n",
    "# Example usage\n",
    "input_sequence = \"hello world and practice makes perfect and hello world again\"\n",
    "result = remove_duplicates_and_sort(input_sequence)\n",
    "print(result)"
   ]
  },
  {
   "cell_type": "markdown",
   "id": "c7123ffb",
   "metadata": {},
   "source": [
    "## 5) Write a program that accepts a sentence and calculate the number of letters and digits."
   ]
  },
  {
   "cell_type": "code",
   "execution_count": 5,
   "id": "e87c1d01",
   "metadata": {},
   "outputs": [
    {
     "name": "stdout",
     "output_type": "stream",
     "text": [
      "LETTERS 10\n",
      "DIGITS 3\n"
     ]
    }
   ],
   "source": [
    "def count_letters_and_digits(sentence):\n",
    "    letters = 0\n",
    "    digits = 0\n",
    "\n",
    "    for char in sentence:\n",
    "        if char.isalpha():\n",
    "            letters += 1\n",
    "        elif char.isdigit():\n",
    "            digits += 1\n",
    "\n",
    "    return letters, digits\n",
    "\n",
    "# Example usage\n",
    "input_sentence = \"hello world! 123\"\n",
    "letter_count, digit_count = count_letters_and_digits(input_sentence)\n",
    "print(\"LETTERS\", letter_count)\n",
    "print(\"DIGITS\", digit_count)"
   ]
  },
  {
   "cell_type": "markdown",
   "id": "1951e7a8",
   "metadata": {},
   "source": [
    "## 6) check the validity of password input by users.\n",
    "## Following are the criteria for checking the password:\n",
    "## 1. At least 1 letter between [a-z]\n",
    "## 2. At least 1 number between [0-9]\n",
    "## 1. At least 1 letter between [A-Z]\n",
    "## 3. At least 1 character from [$#@]\n",
    "## 4. Minimum length of transaction password: 6\n",
    "## 5. Maximum length of transaction password: 12\n",
    "## Your program should accept a sequence of comma separated passwords and will check them according to the above criteria. Passwords that match the criteria are to be printed, each separated by a comma."
   ]
  },
  {
   "cell_type": "code",
   "execution_count": 6,
   "id": "fe0ba05c",
   "metadata": {},
   "outputs": [
    {
     "name": "stdout",
     "output_type": "stream",
     "text": [
      "ABd1234@1\n"
     ]
    }
   ],
   "source": [
    "import re\n",
    "\n",
    "def check_password_validity(password):\n",
    "    # Check if the password matches all the criteria using regular expressions\n",
    "    if re.match(r\"^(?=.*[a-z])(?=.*[A-Z])(?=.*\\d)(?=.*[$#@]).{6,12}$\", password):\n",
    "        return True\n",
    "    else:\n",
    "        return False\n",
    "\n",
    "# Example usage\n",
    "input_passwords = \"ABd1234@1,a F1#,2w3E*,2We3345\"\n",
    "password_list = input_passwords.split(',')\n",
    "\n",
    "valid_passwords = []\n",
    "for password in password_list:\n",
    "    if check_password_validity(password):\n",
    "        valid_passwords.append(password)\n",
    "\n",
    "output = ','.join(valid_passwords)\n",
    "print(output)"
   ]
  }
 ],
 "metadata": {
  "kernelspec": {
   "display_name": "Python 3 (ipykernel)",
   "language": "python",
   "name": "python3"
  },
  "language_info": {
   "codemirror_mode": {
    "name": "ipython",
    "version": 3
   },
   "file_extension": ".py",
   "mimetype": "text/x-python",
   "name": "python",
   "nbconvert_exporter": "python",
   "pygments_lexer": "ipython3",
   "version": "3.9.13"
  }
 },
 "nbformat": 4,
 "nbformat_minor": 5
}
